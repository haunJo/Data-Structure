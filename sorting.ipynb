{
 "cells": [
  {
   "cell_type": "code",
   "execution_count": 52,
   "id": "d542c8fc",
   "metadata": {},
   "outputs": [],
   "source": [
    " "
   ]
  },
  {
   "cell_type": "code",
   "execution_count": 53,
   "id": "ed7ccbdc",
   "metadata": {},
   "outputs": [
    {
     "name": "stdout",
     "output_type": "stream",
     "text": [
      "115268 115340 115345 115393 115527 115528 115529 115538 115575 115649 \n",
      "0 0 0 0 0 0 0 0 0 0 \n"
     ]
    }
   ],
   "source": [
    "\n",
    "def do_sort(input_file):\n",
    "    \n",
    "    data_file = open(input_file)\n",
    "    A = []\n",
    "    for line in data_file.readlines():\n",
    "        lpn = line.split()[0]\n",
    "        A.append(lpn)\n",
    "        \n",
    "    for i in range(10):\n",
    "        print(A[i], end =\" \")\n",
    "    print(\"\")\n",
    "    \n",
    "    QuickSort(A, 0, len(A)-1)\n",
    "    # mergeSort(A, 0, len(A)-1)\n",
    "    \n",
    "    for i in range(10):\n",
    "        print(A[i], end=\" \")\n",
    "    print(\"\")\n",
    "    \n",
    "if __name__ == \"__main__\":\n",
    "    do_sort(\"linkbench_short.trc\")"
   ]
  },
  {
   "cell_type": "code",
   "execution_count": 54,
   "id": "875ec544",
   "metadata": {},
   "outputs": [],
   "source": [
    "def merge(A, p, q, r):\n",
    "    i = p; j = q+1; t=0\n",
    "    tmp = [0 for i in range(len(A))]\n",
    "    while i <= q and j <= r:\n",
    "        if A[i] <= A[j]:\n",
    "            tmp[t] = A[i]; t += 1; i += 1\n",
    "        else:\n",
    "            tmp[t] = A[j]; t += 1; i += 1\n",
    "    while i <= q:\n",
    "        tmp[t] = A[i]; t += 1; i += 1\n",
    "    while j <= r:\n",
    "        tmp[t] = A[j]; t += 1; j += 1\n",
    "    i = p; t = 0\n",
    "    while i <= r:\n",
    "        A[i] = tmp[t]; t += 1; i += 1\n",
    "\n",
    "def mergeSort(A, p, r):\n",
    "    if p < r:\n",
    "        q = (p+r)//2\n",
    "        mergeSort(A, p, q)\n",
    "        mergeSort(A, q+1, r)\n",
    "        merge(A, p, q, r)"
   ]
  },
  {
   "cell_type": "code",
   "execution_count": 55,
   "id": "9b73148e",
   "metadata": {},
   "outputs": [
    {
     "name": "stdout",
     "output_type": "stream",
     "text": [
      "115268 115340 115345 115393 115527 115528 115529 115538 115575 115649 \n",
      "0 0 0 0 0 0 0 0 0 0 \n"
     ]
    }
   ],
   "source": [
    "def do_sort(input_file):\n",
    "    \n",
    "    data_file = open(input_file)\n",
    "    A = []\n",
    "    for line in data_file.readlines():\n",
    "        lpn = line.split()[0]\n",
    "        A.append(lpn)\n",
    "    \n",
    "    for i in range(10):\n",
    "        print(A[i], end =\" \")\n",
    "    print(\"\")\n",
    "    \n",
    "    #QuickSort(A, 0, len(A)-1)\n",
    "    mergeSort(A, 0, len(A)-1)\n",
    "    \n",
    "    for i in range(10):\n",
    "        print(A[i], end=\" \")\n",
    "    print(\"\")\n",
    "    \n",
    "if __name__ == \"__main__\":\n",
    "    do_sort(\"linkbench_short.trc\")"
   ]
  },
  {
   "cell_type": "code",
   "execution_count": 56,
   "id": "f4337743",
   "metadata": {},
   "outputs": [
    {
     "name": "stdout",
     "output_type": "stream",
     "text": [
      "0 784\n",
      "43690226 21\n",
      "43690224 16\n",
      "43690228 15\n",
      "43690230 15\n",
      "43690236 15\n",
      "43690232 14\n",
      "43689984 13\n",
      "43690238 13\n",
      "43689985 12\n"
     ]
    }
   ],
   "source": [
    "from collections import Counter\n",
    "\n",
    "def PageSort(input_file):\n",
    "    \n",
    "    with open(input_file) as file:\n",
    "        A = []\n",
    "        for lines in file.readlines():\n",
    "            A.append(lines.strip())\n",
    "        C = dict(Counter(A))\n",
    "        pages = [[k, v] for k, v in C.items()]\n",
    "        pages = sorted(pages, key = lambda x : -x[1])\n",
    "        for i in range(10):\n",
    "            print(pages[i][0], pages[i][1])\n",
    "\n",
    "PageSort(\"linkbench_short.trc\")\n"
   ]
  },
  {
   "cell_type": "code",
   "execution_count": null,
   "id": "eff52dd7",
   "metadata": {},
   "outputs": [],
   "source": []
  }
 ],
 "metadata": {
  "kernelspec": {
   "display_name": "Python 3 (ipykernel)",
   "language": "python",
   "name": "python3"
  },
  "language_info": {
   "codemirror_mode": {
    "name": "ipython",
    "version": 3
   },
   "file_extension": ".py",
   "mimetype": "text/x-python",
   "name": "python",
   "nbconvert_exporter": "python",
   "pygments_lexer": "ipython3",
   "version": "3.11.1"
  }
 },
 "nbformat": 4,
 "nbformat_minor": 5
}

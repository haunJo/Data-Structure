{
 "cells": [
  {
   "cell_type": "code",
   "execution_count": 3,
   "id": "24af2498",
   "metadata": {},
   "outputs": [],
   "source": [
    "class ListStack:\n",
    "    def __init__(self):\n",
    "        self.__stack = []\n",
    "        \n",
    "    def push(self,x):\n",
    "        self.__stack.append(x) \n",
    "    def pop(self):\n",
    "        return self.__stack.pop()\n",
    "    def top(self):\n",
    "        if self.isEmpty():\n",
    "            print(\"No element in stack\")\n",
    "            return None\n",
    "        else:\n",
    "            return self.__stack[-1]\n",
    "            #return self.__stack[0]\n",
    "    def isEmpty(self):\n",
    "        return not bool(self.__stack)"
   ]
  },
  {
   "cell_type": "code",
   "execution_count": 4,
   "id": "5f4d0a61",
   "metadata": {},
   "outputs": [
    {
     "data": {
      "text/plain": [
       "True"
      ]
     },
     "execution_count": 4,
     "metadata": {},
     "output_type": "execute_result"
    }
   ],
   "source": [
    "def ex3(string):\n",
    "    stack = ListStack()\n",
    "    index = string.find('$')\n",
    "    for i in range(0, index):\n",
    "        stack.push(string[i])\n",
    "    for k in range(index+1, len(string)):\n",
    "        if stack.pop() != string[k]:\n",
    "            return False\n",
    "    return True\n",
    "ex3('abc$cba')"
   ]
  },
  {
   "cell_type": "code",
   "execution_count": 11,
   "id": "c2a7090d",
   "metadata": {},
   "outputs": [
    {
     "name": "stdout",
     "output_type": "stream",
     "text": [
      "True\n"
     ]
    }
   ],
   "source": [
    "def ex5(string):\n",
    "    stack = ListStack()\n",
    "    for i in string:\n",
    "        if i == '(':\n",
    "            stack.push(i)\n",
    "        elif i == ')':\n",
    "            if stack.top() == '(':\n",
    "                stack.pop()\n",
    "            else:\n",
    "                stack.push(i)\n",
    "    if not stack.isEmpty():\n",
    "        return False\n",
    "    else:\n",
    "        return True\n",
    "\n",
    "print(ex5('()((800/ (3+5)*2), (82+2)/4), (91*(40-35)+2)'))\n",
    "    "
   ]
  },
  {
   "cell_type": "code",
   "execution_count": 57,
   "id": "da0dc835",
   "metadata": {},
   "outputs": [
    {
     "name": "stdout",
     "output_type": "stream",
     "text": [
      "5\n",
      "6\n",
      "6\n",
      "6\n",
      "10\n",
      "10\n",
      "10\n",
      "34\n",
      "34\n",
      "34\n"
     ]
    }
   ],
   "source": [
    "#stack이 있는데\n",
    "#최댓값을 계속 알수 있도록 하는 stack\n",
    "\n",
    "def ex7(numbers):\n",
    "    stack = ListStack()\n",
    "    stack.push(3)\n",
    "    \n",
    "        \n",
    "        \n",
    "        \n",
    "ex7([1,5,6,4,5,10, 7, 9 , 34, 1 ,5])"
   ]
  },
  {
   "cell_type": "code",
   "execution_count": null,
   "id": "617de9b1",
   "metadata": {},
   "outputs": [],
   "source": []
  }
 ],
 "metadata": {
  "kernelspec": {
   "display_name": "Python 3 (ipykernel)",
   "language": "python",
   "name": "python3"
  },
  "language_info": {
   "codemirror_mode": {
    "name": "ipython",
    "version": 3
   },
   "file_extension": ".py",
   "mimetype": "text/x-python",
   "name": "python",
   "nbconvert_exporter": "python",
   "pygments_lexer": "ipython3",
   "version": "3.9.13"
  }
 },
 "nbformat": 4,
 "nbformat_minor": 5
}

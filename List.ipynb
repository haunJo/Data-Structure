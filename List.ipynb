{
 "cells": [
  {
   "cell_type": "code",
   "execution_count": 1,
   "id": "86faaa42",
   "metadata": {},
   "outputs": [],
   "source": [
    "import circularDoublyLinkedList\n",
    "from list.circularLinkedList import CircularLinkedList\n"
   ]
  },
  {
   "cell_type": "code",
   "execution_count": 10,
   "id": "d52d50e3",
   "metadata": {},
   "outputs": [],
   "source": [
    "a = CircularLinkedList()"
   ]
  },
  {
   "cell_type": "code",
   "execution_count": 11,
   "id": "93486092",
   "metadata": {},
   "outputs": [],
   "source": [
    "a.append(0)\n",
    "a.append(2)\n",
    "a.append(2)\n",
    "a.append(2)\n",
    "a.append(2)"
   ]
  },
  {
   "cell_type": "code",
   "execution_count": 12,
   "id": "5ef2274e",
   "metadata": {},
   "outputs": [
    {
     "name": "stdout",
     "output_type": "stream",
     "text": [
      "5\n"
     ]
    }
   ],
   "source": [
    "print(a.numItems(0))"
   ]
  },
  {
   "cell_type": "code",
   "execution_count": null,
   "id": "9d5dc467",
   "metadata": {},
   "outputs": [],
   "source": []
  },
  {
   "cell_type": "code",
   "execution_count": null,
   "id": "c6aa558c",
   "metadata": {},
   "outputs": [],
   "source": []
  }
 ],
 "metadata": {
  "kernelspec": {
   "display_name": "Python 3 (ipykernel)",
   "language": "python",
   "name": "python3"
  },
  "language_info": {
   "codemirror_mode": {
    "name": "ipython",
    "version": 3
   },
   "file_extension": ".py",
   "mimetype": "text/x-python",
   "name": "python",
   "nbconvert_exporter": "python",
   "pygments_lexer": "ipython3",
   "version": "3.9.13"
  }
 },
 "nbformat": 4,
 "nbformat_minor": 5
}

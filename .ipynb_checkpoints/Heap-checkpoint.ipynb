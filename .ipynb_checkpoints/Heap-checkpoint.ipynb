{
 "cells": [
  {
   "cell_type": "code",
   "execution_count": 16,
   "id": "a537f4bb",
   "metadata": {},
   "outputs": [],
   "source": [
    "import math\n",
    "\n",
    "class Heap:\n",
    "    def __init__(self,list):\n",
    "        if list == None: \n",
    "            self.__A = []\n",
    "        else:\n",
    "            self.__A = list\n",
    "    def insert(self,x):\n",
    "        self.__A.append(x) #마지막 노드에 x 추가\n",
    "        self.percolateUP(len(self.__A)-1) #마지막 노드 인덱스에 접근해서 제자리로 스며오르기\n",
    "    def deleteMax(self):\n",
    "        maximum = self.__A[0] #max값에 1번째 노드 값 저장\n",
    "        self.__A[0] = self.__A.pop() #마지막 값을 pop해서 1번째 노드에 저장\n",
    "        self.percolateDown(0) #1번째 노드부터 시작해서 제자리로 스며내리기\n",
    "        return maximum\n",
    "    def max(self):\n",
    "        return self.__A[0] #1번째 노드의 값을 반환함\n",
    "    def buildHeap(self):\n",
    "        for i in range((len(self.__A)-2)//2, -1, -1): #마지막 노드의 부모 노드에서부터 0번째 노드까지 스며내리기를 진행하기\n",
    "            self.percolateDown(i) #재귀적 호출\n",
    "    def size(self):\n",
    "        return len(self.__A) #길이를 반환\n",
    "    def isEmpty(self):\n",
    "        return self.__A.isEmpty()\n",
    "    def clear(self):\n",
    "        self.__A = list\n",
    "    def percolateUP(self, i:int):\n",
    "        parent = (i-1)//2 #i번째 노드의 부모 노드 인덱스\n",
    "        if i > 0 and self.__A[i] > self.__A[parent]:\n",
    "            self.__A[i], self.__A[parent] = self.__A[parent], self.__A[i]\n",
    "            self.percolateUP(parent)\n",
    "    def percolateDown(self, i:int):\n",
    "        child = 2*i + 1 #i번째 노드의 왼쪽 자식\n",
    "        right_child = 2*i + 2 #i번째 노드의 오른쪽 자식\n",
    "        if child < len(self.__A)-1: #왼쪽 자식이 존재할 경우\n",
    "            if right_child <= len(self.__A)-1 and self.__A[child] < self.__A[right_child]: #왼쪽 자식이 오른쪽 자식보다 작을 경우\n",
    "                child = right_child\n",
    "            if self.__A[child] > self.__A[i]: #자식이 부모인 i번째 노드보타 클 경우\n",
    "                self.__A[child], self.__A[i] = self.__A[i], self.__A[child] #서로 교체\n",
    "                self.percolateDown(child) # 스며내리기 재반복\n",
    "    \n",
    "    def print_heap(self):\n",
    "        print(self.__A) #배열 보여줌\n",
    "        print(self.__A[0]) #배열의 0번째 노드 출력\n",
    "        for i in range(1, len(self.__A)): #1번째 노트부터 마지막 노드까지\n",
    "            if math.log2(i+2) == int(math.log2(i+2)): #각 depth+2 가 2의 거듭제곱일 경우\n",
    "                print(self.__A[i], end = ' ') #출력하고\n",
    "                print() #개행문자 삽입하기\n",
    "            else:\n",
    "                print(self.__A[i], end = ' ')\n"
   ]
  },
  {
   "cell_type": "code",
   "execution_count": 14,
   "id": "d5497f48",
   "metadata": {},
   "outputs": [
    {
     "name": "stdout",
     "output_type": "stream",
     "text": [
      "[8, 5, 7, 3, 5, 6, 7, 2, 3, 3, 4, 1, 2, 1]\n",
      "8\n",
      "5 7 \n",
      "3 5 6 7 \n",
      "2 3 3 4 1 2 1 [7, 5, 7, 3, 5, 6, 1, 2, 3, 3, 4, 1, 2]\n",
      "7\n",
      "5 7 \n",
      "3 5 6 1 \n",
      "2 3 3 4 1 2 [7, 5, 6, 3, 5, 2, 1, 2, 3, 3, 4, 1]\n",
      "7\n",
      "5 6 \n",
      "3 5 2 1 \n",
      "2 3 3 4 1 [6, 5, 2, 3, 5, 1, 1, 2, 3, 3, 4]\n",
      "6\n",
      "5 2 \n",
      "3 5 1 1 \n",
      "2 3 3 4 "
     ]
    }
   ],
   "source": [
    "myheap = Heap([1,3,5,2,3])\n",
    "myheap.buildHeap()\n",
    "\n",
    "myheap.insert(1)\n",
    "myheap.insert(2)\n",
    "myheap.insert(3)\n",
    "myheap.insert(4)\n",
    "myheap.insert(5)\n",
    "myheap.insert(6)\n",
    "myheap.insert(7)\n",
    "myheap.insert(8)\n",
    "myheap.insert(9)\n",
    "myheap.insert(7)\n",
    "\n",
    "myheap.deleteMax()\n",
    "myheap.print_heap()\n",
    "myheap.deleteMax()\n",
    "myheap.print_heap()\n",
    "myheap.deleteMax()\n",
    "myheap.print_heap()\n",
    "myheap.deleteMax()\n",
    "\n",
    "myheap.print_heap()"
   ]
  },
  {
   "cell_type": "code",
   "execution_count": null,
   "id": "2f296913",
   "metadata": {},
   "outputs": [],
   "source": []
  }
 ],
 "metadata": {
  "kernelspec": {
   "display_name": "Python 3 (ipykernel)",
   "language": "python",
   "name": "python3"
  },
  "language_info": {
   "codemirror_mode": {
    "name": "ipython",
    "version": 3
   },
   "file_extension": ".py",
   "mimetype": "text/x-python",
   "name": "python",
   "nbconvert_exporter": "python",
   "pygments_lexer": "ipython3",
   "version": "3.9.13"
  }
 },
 "nbformat": 4,
 "nbformat_minor": 5
}

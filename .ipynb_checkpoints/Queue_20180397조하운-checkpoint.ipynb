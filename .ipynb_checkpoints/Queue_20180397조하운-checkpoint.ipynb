{
 "cells": [
  {
   "cell_type": "code",
   "execution_count": 1,
   "id": "c4e9a1a1",
   "metadata": {},
   "outputs": [
    {
     "ename": "ModuleNotFoundError",
     "evalue": "No module named 'pandas'",
     "output_type": "error",
     "traceback": [
      "\u001b[0;31m---------------------------------------------------------------------------\u001b[0m",
      "\u001b[0;31mModuleNotFoundError\u001b[0m                       Traceback (most recent call last)",
      "Cell \u001b[0;32mIn[1], line 1\u001b[0m\n\u001b[0;32m----> 1\u001b[0m \u001b[38;5;28;01mfrom\u001b[39;00m \u001b[38;5;21;01mcircularDoublyLinkedList\u001b[39;00m \u001b[38;5;28;01mimport\u001b[39;00m CircularDoublyLinkedList\n\u001b[1;32m      2\u001b[0m \u001b[38;5;28;01mfrom\u001b[39;00m \u001b[38;5;21;01mlist\u001b[39;00m\u001b[38;5;21;01m.\u001b[39;00m\u001b[38;5;21;01mbidirectNode\u001b[39;00m \u001b[38;5;28;01mimport\u001b[39;00m BidirectNode\n\u001b[1;32m      4\u001b[0m \u001b[38;5;28;01mclass\u001b[39;00m \u001b[38;5;21;01mLinkedQueue\u001b[39;00m:\n",
      "File \u001b[0;32m~/ds_practice/circularDoublyLinkedList.py:2\u001b[0m\n\u001b[1;32m      1\u001b[0m \u001b[38;5;28;01mfrom\u001b[39;00m \u001b[38;5;21;01mlist\u001b[39;00m\u001b[38;5;21;01m.\u001b[39;00m\u001b[38;5;21;01mbidirectNode\u001b[39;00m \u001b[38;5;28;01mimport\u001b[39;00m BidirectNode\n\u001b[0;32m----> 2\u001b[0m \u001b[38;5;28;01mimport\u001b[39;00m \u001b[38;5;21;01mpandas\u001b[39;00m \u001b[38;5;28;01mas\u001b[39;00m \u001b[38;5;21;01mpd\u001b[39;00m\n\u001b[1;32m      4\u001b[0m \u001b[38;5;28;01mclass\u001b[39;00m \u001b[38;5;21;01mCircularDoublyLinkedListIterator\u001b[39;00m:\n\u001b[1;32m      5\u001b[0m     \u001b[38;5;28;01mdef\u001b[39;00m \u001b[38;5;21m__init__\u001b[39m(\u001b[38;5;28mself\u001b[39m, alist):\n",
      "\u001b[0;31mModuleNotFoundError\u001b[0m: No module named 'pandas'"
     ]
    }
   ],
   "source": [
    "from circularDoublyLinkedList import CircularDoublyLinkedList\n",
    "from list.bidirectNode import BidirectNode\n",
    "\n",
    "class LinkedQueue:\n",
    "    def __init__(self):\n",
    "        self.__queue = CircularDoublyLinkedList() #양방향순환리스트\n",
    "    def enqueue(self, x):\n",
    "        self.__queue.append(x) #마지막 원소에 추가\n",
    "    def dequeue(self):\n",
    "        return self.__queue.pop(0) #가장 앞 원소 제거하며 반환\n",
    "    def front(self):\n",
    "        return self.__queue.get(0) #가장 앞 원소 반환\n",
    "    def isEmpty (self):\n",
    "        if self.__queue.isEmpty():\n",
    "            return True\n",
    "        return False\n",
    "    \n",
    "    def dequeueAll(self):\n",
    "        self.__queue.clear()\n",
    "        \n",
    "    def printQueue(self):\n",
    "        print(\"Queue from front:\", end = ' ')\n",
    "        for i in range(self.__queue.size()):\n",
    "            print(self.__queue.get(i), end = ' ')\n",
    "        print()"
   ]
  },
  {
   "cell_type": "code",
   "execution_count": 6,
   "id": "ba8fc91e",
   "metadata": {},
   "outputs": [
    {
     "name": "stdout",
     "output_type": "stream",
     "text": [
      "False\n"
     ]
    }
   ],
   "source": [
    "def sentenceChecker(s):\n",
    "    queue = LinkedQueue() #큐 생성\n",
    "    idx = s.find('$') #$가 존재하는 인덱스 반환\n",
    "    for i in range(idx): # $앞까지 enqueue\n",
    "        queue.enqueue(s[i])\n",
    "    for i in range(idx+1, len(s)): # $다음 인덱스부터\n",
    "        if queue.dequeue() != s[i]: #queue에서 하나씩 꺼내면서 나머지 $다음 문자와 비교\n",
    "            return False\n",
    "    return True\n",
    "#abc$abc\n",
    "print(sentenceChecker(\"abc$cba\"))"
   ]
  },
  {
   "cell_type": "code",
   "execution_count": 3,
   "id": "c8808fed",
   "metadata": {},
   "outputs": [
    {
     "name": "stdout",
     "output_type": "stream",
     "text": [
      "3\n"
     ]
    }
   ],
   "source": [
    "class TwoQueueStack:\n",
    "    def __init__(self): #큐 2개 생성\n",
    "        self.aqueue = LinkedQueue()\n",
    "        self.bqueue = LinkedQueue()\n",
    "    def moveall(self, aq, bq):\n",
    "        while not aq.isEmpty(): #a가 빌 때까지 b에 옮기기 \n",
    "            bq.enqueue(aq.dequeue())\n",
    "    def push(self, x):\n",
    "        self.moveall(self.aqueue, self.bqueue) #a->b 큐로 모두 옮기기\n",
    "        self.aqueue.enqueue(x) #x를 a에 삽입\n",
    "        self.moveall(self.bqueue, self.aqueue) #b->a 큐로 모두 옮기기\n",
    "    def pop(self):\n",
    "        return self.aqueue.dequeue()#pop하면 가장 마지막에 들어왔던 원소가 반환됨\n",
    "\n",
    "stack = TwoQueueStack()\n",
    "stack.push(1)\n",
    "stack.push(2)\n",
    "stack.push(3)\n",
    "print(stack.pop())\n"
   ]
  },
  {
   "cell_type": "code",
   "execution_count": 4,
   "id": "8b3b3f0c",
   "metadata": {},
   "outputs": [
    {
     "name": "stdout",
     "output_type": "stream",
     "text": [
      "5\n",
      "2\n"
     ]
    }
   ],
   "source": [
    "#연습문제 4번 변형문제\n",
    "class TwoQueueStack2:\n",
    "    def __init__(self):\n",
    "        self.aqueue = LinkedQueue()\n",
    "        self.bqueue = LinkedQueue()\n",
    "    def moveall(self, aq, bq):\n",
    "        while not aq.isEmpty():\n",
    "            bq.enqueue(aq.dequeue())\n",
    "    def push(self, x):\n",
    "        self.aqueue.enqueue(x) #큐에 바로 삽입시켜줌\n",
    "    def pop(self):\n",
    "        while True:\n",
    "            last = self.aqueue.dequeue() #last에 계속 원소를 저장해줌 마지막까지\n",
    "            if self.aqueue.isEmpty():\n",
    "                break\n",
    "            else:\n",
    "                self.bqueue.enqueue(last) #b에 계속해서 넣어줌\n",
    "        self.moveall(self.bqueue, self.aqueue)#b->a 로 모두 옮겨줌\n",
    "        return last #가장 마지막에 들어왔던 원소가 반환됨\n",
    "stack = TwoQueueStack2()\n",
    "stack.push(1)\n",
    "stack.push(2)\n",
    "stack.push(5)\n",
    "print(stack.pop())\n",
    "print(stack.pop())\n",
    "\n",
    "\n"
   ]
  },
  {
   "cell_type": "code",
   "execution_count": 5,
   "id": "6690e6c3",
   "metadata": {},
   "outputs": [
    {
     "name": "stdout",
     "output_type": "stream",
     "text": [
      "1\n",
      "2\n",
      "3\n"
     ]
    }
   ],
   "source": [
    "class ListStack:\n",
    "    def __init__(self):\n",
    "        self.__stack = []\n",
    "        \n",
    "    def push(self,x):\n",
    "        self.__stack.append(x)\n",
    "    def pop(self):\n",
    "        return self.__stack.pop()\n",
    "    def top(self):\n",
    "        if self.isEmpty():\n",
    "            print(\"No element in stack\")\n",
    "            return None\n",
    "        else:\n",
    "            return self.__stack[-1]\n",
    "            #return self.__stack[0]\n",
    "    def isEmpty(self):\n",
    "        return not bool(self.__stack)\n",
    "\n",
    "class TwoStackQueue:\n",
    "    def __init__(self):\n",
    "        self.aS = ListStack()\n",
    "        self.bS = ListStack()\n",
    "    def moveall(self, aS, bS):\n",
    "        while not aS.isEmpty():\n",
    "            bS.push(aS.pop())\n",
    "    def push(self, x):\n",
    "        self.aS.push(x) #a 스택에 원소 추가\n",
    "    def pop(self):\n",
    "        while True:\n",
    "            last = self.aS.pop() #마지막 원소까지 반환(가장 처음에 들어온 원소가 last에 저장)\n",
    "            if self.aS.isEmpty():\n",
    "                break\n",
    "            else:\n",
    "                self.bS.push(last) #a->b 로 옮기기\n",
    "        self.moveall(self.bS, self.aS)#가장 첨에 들어온 원소 빼고 다 a에 넣기\n",
    "        return last\n",
    "\n",
    "queue = TwoStackQueue()\n",
    "queue.push(1)\n",
    "queue.push(2)\n",
    "queue.push(3)\n",
    "print(queue.pop())\n",
    "print(queue.pop())\n",
    "print(queue.pop())\n",
    "\n"
   ]
  },
  {
   "cell_type": "code",
   "execution_count": null,
   "id": "5352bb99",
   "metadata": {},
   "outputs": [],
   "source": []
  }
 ],
 "metadata": {
  "interpreter": {
   "hash": "b0fa6594d8f4cbf19f97940f81e996739fb7646882a419484c72d19e05852a7e"
  },
  "kernelspec": {
   "display_name": "Python 3 (ipykernel)",
   "language": "python",
   "name": "python3"
  },
  "language_info": {
   "codemirror_mode": {
    "name": "ipython",
    "version": 3
   },
   "file_extension": ".py",
   "mimetype": "text/x-python",
   "name": "python",
   "nbconvert_exporter": "python",
   "pygments_lexer": "ipython3",
   "version": "3.11.1"
  }
 },
 "nbformat": 4,
 "nbformat_minor": 5
}
